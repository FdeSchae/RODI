{
 "cells": [
  {
   "cell_type": "code",
   "execution_count": 1,
   "id": "48f8c93c-b9ed-4bd2-bf04-13cfd99f3efe",
   "metadata": {},
   "outputs": [],
   "source": [
    "from pathlib import Path\n",
    "import pandas as pd"
   ]
  },
  {
   "cell_type": "code",
   "execution_count": 219,
   "id": "45afb351-7b71-4658-b44b-c17ef5dfc287",
   "metadata": {},
   "outputs": [],
   "source": [
    "! python ../scripts/01_process_rodi.py \\\n",
    "    --csv_path ../data/raw/RODI_dataset_annotations.csv \\\n",
    "    --out_folder ../data/interim/"
   ]
  },
  {
   "cell_type": "code",
   "execution_count": 220,
   "id": "9a535d5b-d53f-46f2-9034-0cf7fc247917",
   "metadata": {},
   "outputs": [
    {
     "name": "stdout",
     "output_type": "stream",
     "text": [
      "#### FOLD 0 ####\n",
      "TRAIN\n",
      "Heptageniidae     866\n",
      "Baetidae          787\n",
      "Capniidae         510\n",
      "Rhyacophilidae    354\n",
      "Perlolidae        194\n",
      "Chironomidae      146\n",
      "Simulidae         115\n",
      "Salmonidae         98\n",
      "Name: family, dtype: int64\n",
      "TEST\n",
      "Baetidae          257\n",
      "Heptageniidae     230\n",
      "Rhyacophilidae    165\n",
      "Capniidae         113\n",
      "Chironomidae       50\n",
      "Simulidae          38\n",
      "Perlolidae         28\n",
      "Salmonidae          3\n",
      "Name: family, dtype: int64\n",
      "VAL\n",
      "Baetidae         257\n",
      "Heptageniidae    198\n",
      "Capniidae        109\n",
      "Chironomidae      40\n",
      "Salmonidae        28\n",
      "Perlolidae        16\n",
      "Name: family, dtype: int64\n",
      "\n",
      "#### FOLD 1 ####\n",
      "TRAIN\n",
      "Baetidae          886\n",
      "Heptageniidae     842\n",
      "Capniidae         453\n",
      "Rhyacophilidae    206\n",
      "Simulidae         153\n",
      "Chironomidae      148\n",
      "Salmonidae         77\n",
      "Perlolidae         66\n",
      "Name: family, dtype: int64\n",
      "TEST\n",
      "Baetidae          290\n",
      "Heptageniidae     240\n",
      "Rhyacophilidae    186\n",
      "Capniidae         186\n",
      "Perlolidae         63\n",
      "Salmonidae         44\n",
      "Chironomidae       29\n",
      "Name: family, dtype: int64\n",
      "VAL\n",
      "Heptageniidae     212\n",
      "Rhyacophilidae    127\n",
      "Baetidae          125\n",
      "Perlolidae        109\n",
      "Capniidae          93\n",
      "Chironomidae       59\n",
      "Salmonidae          8\n",
      "Name: family, dtype: int64\n",
      "\n",
      "#### FOLD 2 ####\n",
      "TRAIN\n",
      "Heptageniidae     875\n",
      "Baetidae          791\n",
      "Capniidae         457\n",
      "Rhyacophilidae    424\n",
      "Chironomidae      154\n",
      "Perlolidae        120\n",
      "Salmonidae         65\n",
      "Simulidae          54\n",
      "Name: family, dtype: int64\n",
      "TEST\n",
      "Heptageniidae     276\n",
      "Baetidae          272\n",
      "Capniidae         176\n",
      "Perlolidae        104\n",
      "Simulidae          99\n",
      "Chironomidae       58\n",
      "Rhyacophilidae     39\n",
      "Salmonidae         37\n",
      "Name: family, dtype: int64\n",
      "VAL\n",
      "Baetidae          238\n",
      "Heptageniidae     143\n",
      "Capniidae          99\n",
      "Rhyacophilidae     56\n",
      "Salmonidae         27\n",
      "Chironomidae       24\n",
      "Perlolidae         14\n",
      "Name: family, dtype: int64\n",
      "\n",
      "#### FOLD 3 ####\n",
      "TRAIN\n",
      "Baetidae          811\n",
      "Heptageniidae     778\n",
      "Capniidae         472\n",
      "Rhyacophilidae    306\n",
      "Chironomidae      167\n",
      "Perlolidae        161\n",
      "Salmonidae         82\n",
      "Simulidae          82\n",
      "Name: family, dtype: int64\n",
      "TEST\n",
      "Baetidae          303\n",
      "Heptageniidae     290\n",
      "Capniidae         187\n",
      "Rhyacophilidae    129\n",
      "Chironomidae       32\n",
      "Salmonidae         29\n",
      "Perlolidae         27\n",
      "Name: family, dtype: int64\n",
      "VAL\n",
      "Heptageniidae     226\n",
      "Baetidae          187\n",
      "Rhyacophilidae     84\n",
      "Capniidae          73\n",
      "Simulidae          71\n",
      "Perlolidae         50\n",
      "Chironomidae       37\n",
      "Salmonidae         18\n",
      "Name: family, dtype: int64\n",
      "\n",
      "#### FOLD 4 ####\n",
      "TRAIN\n",
      "Baetidae          933\n",
      "Heptageniidae     910\n",
      "Capniidae         565\n",
      "Rhyacophilidae    519\n",
      "Perlolidae        222\n",
      "Simulidae         137\n",
      "Chironomidae      129\n",
      "Salmonidae        106\n",
      "Name: family, dtype: int64\n",
      "TEST\n",
      "Heptageniidae    258\n",
      "Baetidae         179\n",
      "Capniidae         70\n",
      "Chironomidae      67\n",
      "Salmonidae        16\n",
      "Perlolidae        16\n",
      "Simulidae         16\n",
      "Name: family, dtype: int64\n",
      "VAL\n",
      "Baetidae         189\n",
      "Heptageniidae    126\n",
      "Capniidae         97\n",
      "Chironomidae      40\n",
      "Salmonidae         7\n",
      "Name: family, dtype: int64\n",
      "\n"
     ]
    }
   ],
   "source": [
    "! python ../scripts/01_train_test_split.py \\\n",
    "    --csv_path ../data/interim/01_rodi_processed.csv \\\n",
    "    --target_col family \\\n",
    "    --group_col file \\\n",
    "    --n_splits 5 \\\n",
    "    --out_folder ../data/interim/"
   ]
  },
  {
   "cell_type": "code",
   "execution_count": 2,
   "id": "426a7db0-a351-4b9d-b33a-f72461fd747b",
   "metadata": {},
   "outputs": [],
   "source": [
    "import pytorch_lightning as pl\n",
    "import benthic_models.benthic_models as ut"
   ]
  },
  {
   "cell_type": "code",
   "execution_count": 3,
   "id": "df704673-f370-4874-b07d-a8aec4601e7d",
   "metadata": {},
   "outputs": [
    {
     "data": {
      "text/plain": [
       "<module 'benthic_models.benthic_models' from '/scratch/project_2004353/impiomik/benthic-models/src/benthic_models/benthic_models.py'>"
      ]
     },
     "execution_count": 3,
     "metadata": {},
     "output_type": "execute_result"
    }
   ],
   "source": [
    "import importlib\n",
    "importlib.reload(ut)"
   ]
  },
  {
   "cell_type": "code",
   "execution_count": 4,
   "id": "5f6fa61d-0095-474c-8d57-5a5fd029e86f",
   "metadata": {},
   "outputs": [],
   "source": [
    "from dataclasses import dataclass\n",
    "@dataclass\n",
    "class Args:\n",
    "    data_folder = '../data/raw/RODI_dataset/'\n",
    "    dataset_name = 'rodi'\n",
    "    csv_path = '../data/interim/01_rodi_processed_5splits_family.csv'\n",
    "    fold = 0\n",
    "    label = 'family'\n",
    "    class_map = '../data/classes/rodi_01_family.txt'\n",
    "    imsize = 224\n",
    "    batch_size = 2\n",
    "    aug = 'aug-02'\n",
    "    load_to_memory = False\n",
    "    log_dir='roditest'\n",
    "args = Args()"
   ]
  },
  {
   "cell_type": "code",
   "execution_count": 12,
   "id": "542ab52b-11c7-448a-9ce1-566c5d1587de",
   "metadata": {},
   "outputs": [],
   "source": [
    "class_map = ut.load_class_map(args.class_map)"
   ]
  },
  {
   "cell_type": "code",
   "execution_count": 13,
   "id": "4969696f-b54e-4a74-a160-8275421d4665",
   "metadata": {},
   "outputs": [],
   "source": [
    "dm = ut.LitDataModule(\n",
    "    data_folder=args.data_folder,\n",
    "    dataset_name=args.dataset_name,\n",
    "    csv_path=args.csv_path,\n",
    "    fold=args.fold,\n",
    "    label=args.label,\n",
    "    label_transform=class_map[\"fwd\"],\n",
    "    imsize=args.imsize,\n",
    "    batch_size=args.batch_size,\n",
    "    aug='aug-02',\n",
    "    load_to_memory=args.load_to_memory,\n",
    ")"
   ]
  },
  {
   "cell_type": "code",
   "execution_count": 14,
   "id": "f381f96e-bde3-4808-9675-656ba0625ea7",
   "metadata": {},
   "outputs": [],
   "source": [
    "dm.setup()"
   ]
  },
  {
   "cell_type": "code",
   "execution_count": 15,
   "id": "95314342-42b9-4c41-be1d-48ffd7bbdf20",
   "metadata": {},
   "outputs": [],
   "source": [
    "dm.visualize_datasets('imgs')"
   ]
  },
  {
   "cell_type": "code",
   "execution_count": 29,
   "id": "a1ab0e99-dffe-4821-97b6-e8068a3ab09f",
   "metadata": {},
   "outputs": [],
   "source": [
    "import torch"
   ]
  },
  {
   "cell_type": "code",
   "execution_count": 31,
   "id": "41c5990b-c062-43af-8b27-417f0c4db299",
   "metadata": {},
   "outputs": [
    {
     "data": {
      "text/plain": [
       "torch.Size([1, 3, 224, 224])"
      ]
     },
     "execution_count": 31,
     "metadata": {},
     "output_type": "execute_result"
    }
   ],
   "source": [
    "torch.randn((1,3,224,224)).shape"
   ]
  },
  {
   "cell_type": "code",
   "execution_count": 27,
   "id": "0ef88233-71cc-4a70-be50-e517592c9b43",
   "metadata": {},
   "outputs": [
    {
     "data": {
      "text/plain": [
       "torch.Size([2, 3, 224, 224])"
      ]
     },
     "execution_count": 27,
     "metadata": {},
     "output_type": "execute_result"
    }
   ],
   "source": [
    "x,y = next(iter(dm.val_dataloader()))\n",
    "x.shape"
   ]
  },
  {
   "cell_type": "code",
   "execution_count": 113,
   "id": "21888956-5b90-4518-bc5a-eff1e85576bd",
   "metadata": {},
   "outputs": [],
   "source": [
    "fnames, labels = ut.preprocess_dataset(\n",
    "                data_folder=args.data_folder,\n",
    "                dataset_name=args.dataset_name,\n",
    "                csv_path=args.csv_path,\n",
    "                fold=args.fold,\n",
    "                label=args.label)"
   ]
  },
  {
   "cell_type": "code",
   "execution_count": 16,
   "id": "b55cdf43-8fc5-4a8a-a78c-6a6b19873fc3",
   "metadata": {},
   "outputs": [],
   "source": [
    "opt_args = {\"name\": 'adamw'}\n",
    "\n",
    "model = ut.LitModule(\n",
    "    model='resnet18',\n",
    "    freeze_base=False,\n",
    "    pretrained=True,\n",
    "    criterion='cross-entropy',\n",
    "    opt=opt_args,\n",
    "    n_classes=8,\n",
    "    lr=0.001,\n",
    "    label_transform=class_map[\"inv\"],\n",
    ")"
   ]
  },
  {
   "cell_type": "code",
   "execution_count": 17,
   "id": "52303258-898c-455a-84ff-650e8c938cb9",
   "metadata": {},
   "outputs": [],
   "source": [
    "from pytorch_lightning.loggers import TensorBoardLogger, WandbLogger\n",
    "\n"
   ]
  },
  {
   "cell_type": "code",
   "execution_count": 19,
   "id": "9565850c-18b0-4ae4-8854-bfa33a9aa1b0",
   "metadata": {},
   "outputs": [
    {
     "name": "stderr",
     "output_type": "stream",
     "text": [
      "Failed to detect the name of this notebook, you can set it manually with the WANDB_NOTEBOOK_NAME environment variable to enable code saving.\n",
      "\u001b[34m\u001b[1mwandb\u001b[0m: Currently logged in as: \u001b[33mmikkoim\u001b[0m (use `wandb login --relogin` to force relogin)\n",
      "\u001b[34m\u001b[1mwandb\u001b[0m: wandb version 0.13.3 is available!  To upgrade, please run:\n",
      "\u001b[34m\u001b[1mwandb\u001b[0m:  $ pip install wandb --upgrade\n"
     ]
    },
    {
     "data": {
      "text/html": [
       "\n",
       "                    Syncing run <strong><a href=\"https://wandb.ai/mikkoim/roditest/runs/1234\" target=\"_blank\">basename</a></strong> to <a href=\"https://wandb.ai/mikkoim/roditest\" target=\"_blank\">Weights & Biases</a> (<a href=\"https://docs.wandb.com/integrations/jupyter.html\" target=\"_blank\">docs</a>).<br/>\n",
       "\n",
       "                "
      ],
      "text/plain": [
       "<IPython.core.display.HTML object>"
      ]
     },
     "metadata": {},
     "output_type": "display_data"
    },
    {
     "name": "stderr",
     "output_type": "stream",
     "text": [
      "\u001b[34m\u001b[1mwandb\u001b[0m: logging graph, to disable use `wandb.watch(log_graph=False)`\n"
     ]
    }
   ],
   "source": [
    "logger = WandbLogger(project=args.log_dir,\n",
    "                        name='basename',\n",
    "                           id='1234')\n",
    "logger.watch(model)"
   ]
  },
  {
   "cell_type": "code",
   "execution_count": null,
   "id": "a84b83dc-fad9-4670-b665-47b076b6ef8b",
   "metadata": {},
   "outputs": [],
   "source": [
    "logger = TensorBoardLogger(\"tb_logs\", name='testi')\n",
    "logger.log_graph(model)"
   ]
  },
  {
   "cell_type": "code",
   "execution_count": 35,
   "id": "4f92ca56-c60e-40c6-a27c-e1e915ad3c11",
   "metadata": {},
   "outputs": [
    {
     "data": {
      "text/plain": [
       "{}"
      ]
     },
     "execution_count": 35,
     "metadata": {},
     "output_type": "execute_result"
    }
   ],
   "source": [
    "vars(args)"
   ]
  },
  {
   "cell_type": "code",
   "execution_count": 27,
   "id": "9ba9ab19-a61e-4715-a726-5608f1579899",
   "metadata": {},
   "outputs": [],
   "source": [
    "from pytorch_lightning.callbacks import ModelCheckpoint"
   ]
  },
  {
   "cell_type": "code",
   "execution_count": 29,
   "id": "33931649-54d3-45f8-867a-c5cbaa6c90a5",
   "metadata": {},
   "outputs": [],
   "source": [
    "checkpoint_callback = ModelCheckpoint(\n",
    "    monitor=\"val/loss\", filename=f\"out_\" + \"{epoch:02d}_{val_loss:.2f}\"\n",
    ")"
   ]
  },
  {
   "cell_type": "code",
   "execution_count": 31,
   "id": "c4f24599-d5d3-4e31-ad62-5bda1a5f68f7",
   "metadata": {},
   "outputs": [
    {
     "name": "stderr",
     "output_type": "stream",
     "text": [
      "GPU available: False, used: False\n",
      "TPU available: False, using: 0 TPU cores\n",
      "IPU available: False, using: 0 IPUs\n"
     ]
    }
   ],
   "source": [
    "trainer = pl.Trainer(\n",
    "    max_epochs=5,\n",
    "    limit_train_batches=1,\n",
    "    limit_val_batches=1,\n",
    "    limit_test_batches=1,\n",
    "    logger=logger,\n",
    "    callbacks=[checkpoint_callback]\n",
    ")"
   ]
  },
  {
   "cell_type": "code",
   "execution_count": 32,
   "id": "1bbfaba5-5f2d-4ee2-81d6-ef73f0ff3b81",
   "metadata": {},
   "outputs": [
    {
     "name": "stderr",
     "output_type": "stream",
     "text": [
      "/opt/conda/envs/env/lib/python3.9/site-packages/pytorch_lightning/core/datamodule.py:469: LightningDeprecationWarning: DataModule.setup has already been called, so it will not be called again. In v1.6 this behavior will change to always call DataModule.setup.\n",
      "  rank_zero_deprecation(\n",
      "\n",
      "  | Name  | Type  | Params | In sizes         | Out sizes\n",
      "---------------------------------------------------------------\n",
      "0 | model | Model | 11.2 M | [1, 3, 224, 224] | [1, 8]   \n",
      "---------------------------------------------------------------\n",
      "11.2 M    Trainable params\n",
      "0         Non-trainable params\n",
      "11.2 M    Total params\n",
      "44.722    Total estimated model params size (MB)\n",
      "/opt/conda/envs/env/lib/python3.9/site-packages/pytorch_lightning/callbacks/model_checkpoint.py:631: UserWarning: Checkpoint directory /scratch/project_2004353/impiomik/benthic-models/notebooks/roditest/1234/checkpoints exists and is not empty.\n",
      "  rank_zero_warn(f\"Checkpoint directory {dirpath} exists and is not empty.\")\n"
     ]
    },
    {
     "data": {
      "application/vnd.jupyter.widget-view+json": {
       "model_id": "",
       "version_major": 2,
       "version_minor": 0
      },
      "text/plain": [
       "Validation sanity check: 0it [00:00, ?it/s]"
      ]
     },
     "metadata": {},
     "output_type": "display_data"
    },
    {
     "name": "stderr",
     "output_type": "stream",
     "text": [
      "/opt/conda/envs/env/lib/python3.9/site-packages/pytorch_lightning/trainer/data_loading.py:132: UserWarning: The dataloader, val_dataloader 0, does not have many workers which may be a bottleneck. Consider increasing the value of the `num_workers` argument` (try 40 which is the number of cpus on this machine) in the `DataLoader` init to improve performance.\n",
      "  rank_zero_warn(\n",
      "/opt/conda/envs/env/lib/python3.9/site-packages/pytorch_lightning/trainer/data_loading.py:132: UserWarning: The dataloader, train_dataloader, does not have many workers which may be a bottleneck. Consider increasing the value of the `num_workers` argument` (try 40 which is the number of cpus on this machine) in the `DataLoader` init to improve performance.\n",
      "  rank_zero_warn(\n",
      "/opt/conda/envs/env/lib/python3.9/site-packages/pytorch_lightning/trainer/data_loading.py:432: UserWarning: The number of training samples (1) is smaller than the logging interval Trainer(log_every_n_steps=50). Set a lower value for log_every_n_steps if you want to see logs for the training epoch.\n",
      "  rank_zero_warn(\n"
     ]
    },
    {
     "data": {
      "application/vnd.jupyter.widget-view+json": {
       "model_id": "9df3c812149549d9b772bd930330046a",
       "version_major": 2,
       "version_minor": 0
      },
      "text/plain": [
       "Training: 0it [00:00, ?it/s]"
      ]
     },
     "metadata": {},
     "output_type": "display_data"
    },
    {
     "data": {
      "application/vnd.jupyter.widget-view+json": {
       "model_id": "",
       "version_major": 2,
       "version_minor": 0
      },
      "text/plain": [
       "Validating: 0it [00:00, ?it/s]"
      ]
     },
     "metadata": {},
     "output_type": "display_data"
    },
    {
     "data": {
      "application/vnd.jupyter.widget-view+json": {
       "model_id": "",
       "version_major": 2,
       "version_minor": 0
      },
      "text/plain": [
       "Validating: 0it [00:00, ?it/s]"
      ]
     },
     "metadata": {},
     "output_type": "display_data"
    },
    {
     "data": {
      "application/vnd.jupyter.widget-view+json": {
       "model_id": "",
       "version_major": 2,
       "version_minor": 0
      },
      "text/plain": [
       "Validating: 0it [00:00, ?it/s]"
      ]
     },
     "metadata": {},
     "output_type": "display_data"
    },
    {
     "data": {
      "application/vnd.jupyter.widget-view+json": {
       "model_id": "",
       "version_major": 2,
       "version_minor": 0
      },
      "text/plain": [
       "Validating: 0it [00:00, ?it/s]"
      ]
     },
     "metadata": {},
     "output_type": "display_data"
    },
    {
     "data": {
      "application/vnd.jupyter.widget-view+json": {
       "model_id": "",
       "version_major": 2,
       "version_minor": 0
      },
      "text/plain": [
       "Validating: 0it [00:00, ?it/s]"
      ]
     },
     "metadata": {},
     "output_type": "display_data"
    },
    {
     "name": "stderr",
     "output_type": "stream",
     "text": [
      "/opt/conda/envs/env/lib/python3.9/site-packages/pytorch_lightning/core/datamodule.py:469: LightningDeprecationWarning: DataModule.teardown has already been called, so it will not be called again. In v1.6 this behavior will change to always call DataModule.teardown.\n",
      "  rank_zero_deprecation(\n"
     ]
    }
   ],
   "source": [
    "trainer.fit(model,dm)"
   ]
  },
  {
   "cell_type": "code",
   "execution_count": 24,
   "id": "f531e8a0-5cd3-4d6e-899d-7036ac0be229",
   "metadata": {},
   "outputs": [
    {
     "name": "stderr",
     "output_type": "stream",
     "text": [
      "/opt/conda/envs/env/lib/python3.9/site-packages/pytorch_lightning/core/datamodule.py:469: LightningDeprecationWarning: DataModule.setup has already been called, so it will not be called again. In v1.6 this behavior will change to always call DataModule.setup.\n",
      "  rank_zero_deprecation(\n",
      "/opt/conda/envs/env/lib/python3.9/site-packages/pytorch_lightning/trainer/data_loading.py:132: UserWarning: The dataloader, test_dataloader 0, does not have many workers which may be a bottleneck. Consider increasing the value of the `num_workers` argument` (try 40 which is the number of cpus on this machine) in the `DataLoader` init to improve performance.\n",
      "  rank_zero_warn(\n"
     ]
    },
    {
     "data": {
      "application/vnd.jupyter.widget-view+json": {
       "model_id": "f2b29d7d250f4ceab4707cf0e752b629",
       "version_major": 2,
       "version_minor": 0
      },
      "text/plain": [
       "Testing: 0it [00:00, ?it/s]"
      ]
     },
     "metadata": {},
     "output_type": "display_data"
    },
    {
     "name": "stdout",
     "output_type": "stream",
     "text": [
      "--------------------------------------------------------------------------------\n",
      "DATALOADER:0 TEST RESULTS\n",
      "{'test/acc': 0.0, 'test/f1': 0.0, 'test/loss': 4.378890037536621}\n",
      "--------------------------------------------------------------------------------\n"
     ]
    },
    {
     "data": {
      "text/plain": [
       "[{'test/loss': 4.378890037536621, 'test/acc': 0.0, 'test/f1': 0.0}]"
      ]
     },
     "execution_count": 24,
     "metadata": {},
     "output_type": "execute_result"
    }
   ],
   "source": [
    "trainer.test(model,dm)"
   ]
  },
  {
   "cell_type": "code",
   "execution_count": 24,
   "id": "95da31b4-4e0f-4dc4-90db-7e28db4e1ac4",
   "metadata": {},
   "outputs": [],
   "source": [
    "import wandb"
   ]
  },
  {
   "cell_type": "code",
   "execution_count": 34,
   "id": "882d272d-6226-4a77-ba5b-6bfad9b600e7",
   "metadata": {},
   "outputs": [
    {
     "data": {
      "text/plain": [
       "'/scratch/project_2004353/impiomik/benthic-models/notebooks/roditest/1234/checkpoints/out_epoch=00_val_loss=0.00.ckpt'"
      ]
     },
     "execution_count": 34,
     "metadata": {},
     "output_type": "execute_result"
    }
   ],
   "source": [
    "checkpoint_callback.best_model_path"
   ]
  },
  {
   "cell_type": "code",
   "execution_count": 37,
   "id": "1dbce356-a0b9-4f3a-b3ac-ceef5b206f26",
   "metadata": {},
   "outputs": [],
   "source": [
    "import shutil"
   ]
  },
  {
   "cell_type": "code",
   "execution_count": 39,
   "id": "791b3b0e-7bc4-44dd-bf29-64adcfb4e50a",
   "metadata": {},
   "outputs": [],
   "source": [
    "import yaml"
   ]
  },
  {
   "cell_type": "code",
   "execution_count": 47,
   "id": "fb99cc8f-86b7-4bef-ad22-ebb9039971a6",
   "metadata": {},
   "outputs": [],
   "source": [
    "result = yaml.dump(vars(wandb.config))\n",
    "with open('test.yml', 'w') as f:\n",
    "    f.write(result)"
   ]
  },
  {
   "cell_type": "code",
   "execution_count": 49,
   "id": "de2cdae5-16fb-4fc6-8d2b-a9b620aabbb6",
   "metadata": {},
   "outputs": [
    {
     "data": {
      "text/plain": [
       "{'_wandb': {},\n",
       " 'model': 'resnet18',\n",
       " 'freeze_base': False,\n",
       " 'pretrained': True,\n",
       " 'n_classes': 8,\n",
       " 'criterion': 'cross-entropy',\n",
       " 'opt/name': 'adamw',\n",
       " 'lr': 0.001}"
      ]
     },
     "execution_count": 49,
     "metadata": {},
     "output_type": "execute_result"
    }
   ],
   "source": [
    "vars(wandb.config)['_items']"
   ]
  },
  {
   "cell_type": "code",
   "execution_count": 145,
   "id": "579e152e-9438-4e20-8cdd-c667e95c172c",
   "metadata": {},
   "outputs": [],
   "source": [
    "args.model_weights = '../benthic_resnet18_cross-entropy_b128_220923-1657-e827_epoch=24_val_loss=0.13.ckpt'\n",
    "\n",
    "ckpt = torch.load(\n",
    "    args.model_weights,\n",
    "    map_location=torch.device(\"cuda\" if torch.cuda.is_available() else \"cpu\"),\n",
    ")"
   ]
  },
  {
   "cell_type": "code",
   "execution_count": null,
   "id": "0caabce8-a1af-416f-b77e-af2dd372952b",
   "metadata": {},
   "outputs": [],
   "source": []
  },
  {
   "cell_type": "code",
   "execution_count": 146,
   "id": "ccfc13f7-0ecf-425a-8cc8-f3d91db8960a",
   "metadata": {},
   "outputs": [],
   "source": [
    "model = ut.LitModule(**ckpt[\"hyper_parameters\"])\n",
    "model.label_transform = class_map['inv']\n",
    "\n",
    "model.load_state_dict(ckpt[\"state_dict\"])\n",
    "model.freeze()"
   ]
  },
  {
   "cell_type": "code",
   "execution_count": 147,
   "id": "c30b9fc8-064d-4c75-88bc-de70a6e1f0d4",
   "metadata": {},
   "outputs": [
    {
     "name": "stderr",
     "output_type": "stream",
     "text": [
      "GPU available: False, used: False\n",
      "TPU available: False, using: 0 TPU cores\n",
      "IPU available: False, using: 0 IPUs\n",
      "Running in fast_dev_run mode: will run a full train, val, test and prediction loop using 1 batch(es).\n",
      "/opt/conda/envs/env/lib/python3.9/site-packages/pytorch_lightning/core/datamodule.py:469: LightningDeprecationWarning: DataModule.setup has already been called, so it will not be called again. In v1.6 this behavior will change to always call DataModule.setup.\n",
      "  rank_zero_deprecation(\n",
      "/opt/conda/envs/env/lib/python3.9/site-packages/pytorch_lightning/trainer/data_loading.py:132: UserWarning: The dataloader, test_dataloader 0, does not have many workers which may be a bottleneck. Consider increasing the value of the `num_workers` argument` (try 40 which is the number of cpus on this machine) in the `DataLoader` init to improve performance.\n",
      "  rank_zero_warn(\n"
     ]
    },
    {
     "data": {
      "application/vnd.jupyter.widget-view+json": {
       "model_id": "615817ea729e433896d0fbbd850cc3c2",
       "version_major": 2,
       "version_minor": 0
      },
      "text/plain": [
       "Testing: 0it [00:00, ?it/s]"
      ]
     },
     "metadata": {},
     "output_type": "display_data"
    },
    {
     "name": "stdout",
     "output_type": "stream",
     "text": [
      "--------------------------------------------------------------------------------\n",
      "DATALOADER:0 TEST RESULTS\n",
      "{'test/acc': 1.0, 'test/f1': 1.0, 'test/loss': 1.847741259553004e-06}\n",
      "--------------------------------------------------------------------------------\n"
     ]
    },
    {
     "data": {
      "text/plain": [
       "[{'test/loss': 1.847741259553004e-06, 'test/acc': 1.0, 'test/f1': 1.0}]"
      ]
     },
     "execution_count": 147,
     "metadata": {},
     "output_type": "execute_result"
    }
   ],
   "source": [
    "trainer = pl.Trainer(fast_dev_run=True)\n",
    "trainer.test(model, dm)"
   ]
  },
  {
   "cell_type": "code",
   "execution_count": 148,
   "id": "4fe746a5-cefe-4d39-8fa3-a818fe9dae55",
   "metadata": {},
   "outputs": [],
   "source": [
    "y_true, y_pred = model.y_true, model.y_pred"
   ]
  }
 ],
 "metadata": {
  "kernelspec": {
   "display_name": "Python 3 (ipykernel)",
   "language": "python",
   "name": "python3"
  },
  "language_info": {
   "codemirror_mode": {
    "name": "ipython",
    "version": 3
   },
   "file_extension": ".py",
   "mimetype": "text/x-python",
   "name": "python",
   "nbconvert_exporter": "python",
   "pygments_lexer": "ipython3",
   "version": "3.9.12"
  },
  "vscode": {
   "interpreter": {
    "hash": "8e192088e44daf2c5c7baea7cd78252ea83f8d6a4f9951a08baf14ffe04c2832"
   }
  }
 },
 "nbformat": 4,
 "nbformat_minor": 5
}
